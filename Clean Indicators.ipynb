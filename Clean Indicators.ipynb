{
 "cells": [
  {
   "cell_type": "markdown",
   "id": "23983c2e",
   "metadata": {},
   "source": [
    "# Clean Indicators "
   ]
  },
  {
   "cell_type": "markdown",
   "id": "3570fd8f",
   "metadata": {},
   "source": [
    "One of the most important things we will be using in this projects are the **indicators**. They will be used to represent the main objectives of the **text files** (*papers* or *official documents*) we are going to be analysing, plus we want to *match* the **general indicators** with the **cultural ones** so we can see how far they are from each other. This is the main reason for which we want to have the indicators **as clean as possible**, as it will be our way of measuring if the model results are behaving well enough, and so we will be preparing them as our first step.\n",
    "\n",
    "Some indicators contain **non-alphanumeric** characters, **bad encoding** symbols and way **too specific words** (such as dates). In order to improve the results of the model we will **remove** / **replace** all these characters and errors. There are also some **non-english indicators** that we are not targeting in this project so we will **translate** them and then remove the possible **duplicates** we find after all the changes we made.\n",
    "\n",
    "**Cleaning Summary**:\n",
    "\n",
    "* Remove wrong characters \n",
    "\n",
    "* Translate non-english indicators\n",
    "\n",
    "* Drop duplicates from both types"
   ]
  },
  {
   "cell_type": "markdown",
   "id": "96992d5d",
   "metadata": {
    "tags": [
     "hide"
    ]
   },
   "source": [
    "## Environment"
   ]
  },
  {
   "cell_type": "markdown",
   "id": "4f142fb2",
   "metadata": {
    "tags": [
     "hide"
    ]
   },
   "source": [
    "### Libraries"
   ]
  },
  {
   "cell_type": "code",
   "execution_count": 1,
   "id": "740775a0",
   "metadata": {
    "ExecuteTime": {
     "end_time": "2022-04-02T18:49:12.689354Z",
     "start_time": "2022-04-02T18:49:10.012932Z"
    }
   },
   "outputs": [],
   "source": [
    "# Base libraries\n",
    "import pandas as pd\n",
    "\n",
    "# Visualization\n",
    "from IPython.display import Markdown, display\n",
    "\n",
    "# Text and Language\n",
    "import regex as re\n",
    "from langdetect import detect\n",
    "from textblob import TextBlob"
   ]
  },
  {
   "cell_type": "markdown",
   "id": "1dbb2014",
   "metadata": {
    "tags": [
     "hide"
    ]
   },
   "source": [
    "### Data Extraction"
   ]
  },
  {
   "cell_type": "code",
   "execution_count": 2,
   "id": "03478ec0",
   "metadata": {
    "ExecuteTime": {
     "end_time": "2022-04-02T18:49:14.426841Z",
     "start_time": "2022-04-02T18:49:12.692825Z"
    }
   },
   "outputs": [],
   "source": [
    "path = 'Indicators/'\n",
    "filename = path + 'indicators.xlsx'\n",
    "\n",
    "general_indicators = pd.read_excel(filename, \n",
    "                                   sheet_name='Indic Generales', \n",
    "                                   engine='openpyxl')[\"indicator_en\"].rename('indicator')\n",
    "\n",
    "cultural_indicators = pd.read_excel(filename, \n",
    "                                    sheet_name='Indic Culturales', \n",
    "                                    engine='openpyxl')[\"indicator_en\"].rename('indicator')"
   ]
  },
  {
   "cell_type": "markdown",
   "id": "3e74d0b8",
   "metadata": {},
   "source": [
    "## Cleaning"
   ]
  },
  {
   "cell_type": "markdown",
   "id": "73eb6fd2",
   "metadata": {},
   "source": [
    "### Error characters"
   ]
  },
  {
   "cell_type": "markdown",
   "id": "2e65b212",
   "metadata": {},
   "source": [
    "As we portrayed before, there are a few errors in the indicators due to their encoding and format. The main ones we will be adressing are the following:\n",
    "\n",
    "*  **\\xa0** (byte characters not properly recognized due to the encoding)\n",
    "*  **(±SD)** (The sum - minus symbol might not be recognized, neither the standard deviation and even if they were they're very generic)\n",
    "*  **2006** (years, dates are not useful when  working with topics and general indicators)\n",
    "*  **(REI)** (Remove empty parenthesis or parenthesis with only one word that are often used as a summarization of the main sentence)\n",
    "\n",
    "Further cleaning includes removing some unnecesary characters such as **squared brackets** or extra **unnecesary spaces**. \n",
    "\n",
    "In order to do that we will use **RegEx**, a popular tool that allows us to modify (including *replacing* and *removing*) characters given some custom defined circumstances and standard encoding Python methods to work with latin encoding (**ISO-8859-1**)."
   ]
  },
  {
   "cell_type": "code",
   "execution_count": 3,
   "id": "868c7680",
   "metadata": {
    "ExecuteTime": {
     "end_time": "2022-04-02T18:49:14.611354Z",
     "start_time": "2022-04-02T18:49:14.433786Z"
    },
    "scrolled": true
   },
   "outputs": [],
   "source": [
    "def clean_indicator(text):\n",
    "    \n",
    "    # Encode in latin if this char (error) is not found\n",
    "    if ('–' not in text) & ('€' not in text):\n",
    "        try:\n",
    "            text = text.encode('latin', 'ignore').decode('UTF-8')\n",
    "        except: \n",
    "            pass\n",
    "    \n",
    "    # Remove years\n",
    "    text = re.sub(r'[0-9]{4}', \" \", text.strip())    \n",
    "    \n",
    "    # Replace the following rules with spaces\n",
    "    replace_rules = [\n",
    "        r\"\\xa0\", # Error for smaller numbers \n",
    "        r\" *± *SD\", # Standard Deviaton (not useful)\n",
    "        r\"\\*\",# * Characters\n",
    "        r\" +\", # Remove extra spaces\n",
    "        r\"[0-9]\\\\[0-9a-zA-Z]+\",\n",
    "    ]\n",
    "    \n",
    "    for rule in replace_rules:\n",
    "        text = re.sub(rule, \" \", text)\n",
    "                \n",
    "    # Remove the following rules\n",
    "    remove_rules = [\n",
    "        r'(\\[|\\()[a-zA-Z0-9%]*(\\]|\\))', # Remove parenthesis containing only one word\n",
    "        r'\\( *\\)', # Remove empty Parenthesis\n",
    "    ]\n",
    "    \n",
    "    for rule in remove_rules:\n",
    "        text = re.sub(rule, \"\", text)\n",
    "    \n",
    "    # Fix unmatched parenthesis\n",
    "    if text.count('(') == text.count(')'):\n",
    "        return text.strip()\n",
    "    else:\n",
    "        return text.strip() +')'\n",
    "\n",
    "\n",
    "clean_general_indicators = general_indicators.fillna(\"\").apply(clean_indicator)\n",
    "clean_cultural_indicators = cultural_indicators.fillna(\"\").apply(clean_indicator)"
   ]
  },
  {
   "cell_type": "markdown",
   "id": "bf8c1ff1",
   "metadata": {},
   "source": [
    "#### Checking"
   ]
  },
  {
   "cell_type": "markdown",
   "id": "e4f89fa8",
   "metadata": {},
   "source": [
    "Now that we have cleaned our indicators we can check a **sample of 10** of them that changed after the processing so we can tell there is indeed a difference. The **left** column will be the **clean** one, while the **right** column will be the **raw** one: "
   ]
  },
  {
   "cell_type": "markdown",
   "id": "92a730c7",
   "metadata": {},
   "source": [
    "##### 10 Sample modified General Indicators"
   ]
  },
  {
   "cell_type": "code",
   "execution_count": 4,
   "id": "0a129482",
   "metadata": {
    "ExecuteTime": {
     "end_time": "2022-04-02T18:49:14.657484Z",
     "start_time": "2022-04-02T18:49:14.617802Z"
    },
    "scrolled": false
   },
   "outputs": [
    {
     "data": {
      "text/markdown": [
       "|     | clean_indicator                                                                                                                                                                   | indicator                                                                                                                                                                               |\n",
       "|----:|:----------------------------------------------------------------------------------------------------------------------------------------------------------------------------------|:----------------------------------------------------------------------------------------------------------------------------------------------------------------------------------------|\n",
       "| 104 | Residential energy use                                                                                                                                                            | Residential energy use (11)                                                                                                                                                             |\n",
       "|  15 | Public facilities and spaces                                                                                                                                                      | Public facilities and spaces                                                                                                                                                            |\n",
       "| 570 | Safe and healthy sport sites                                                                                                                                                      | Safe and healthy sport sites                                                                                                                                                            |\n",
       "| 795 | Contractors Health, safety and enivironmental pre-qualification                                                                                                                   | Contractors Health, safety and enivironmental pre-qualification                                                                                                                         |\n",
       "| 849 | Google hits for the string city name & climate change & urban heat island (hits per million inhabitants)                                                                          | Google hits for the string “city name & climate change & urban heat island” (hits per million inhabitants)                                                                              |\n",
       "| 785 | Health, safety and enivironmental management systems                                                                                                                              | Health, safety and enivironmental management systems                                                                                                                                    |\n",
       "| 776 | Public access to Health, safety and enivironmental information                                                                                                                    | Public access to Health, safety and enivironmental information                                                                                                                          |\n",
       "| 559 | Number of complaints about hygienic conditions                                                                                                                                    | Number of complaints about hygienic conditions (SI)                                                                                                                                     |\n",
       "|  31 | Percentage of park management staff who possess qualifications related to ecology, environmental management, landscape architecture, or other park management-related disciplines | Percentage of park management staff who possess qualifications related to ecology, environmental management, landscape architecture, or other park management-related disciplines (MII) |\n",
       "| 406 | Capacity of public transport                                                                                                                                                      | Capacity of public transport                                                                                                                                                            |"
      ],
      "text/plain": [
       "<IPython.core.display.Markdown object>"
      ]
     },
     "metadata": {},
     "output_type": "display_data"
    }
   ],
   "source": [
    "display(Markdown(pd.concat([clean_general_indicators.rename('clean_indicator'), \n",
    "           general_indicators], \n",
    "          axis=1)[clean_general_indicators != general_indicators].sample(10, random_state=42).to_markdown()))"
   ]
  },
  {
   "cell_type": "markdown",
   "id": "f6e9bc65",
   "metadata": {},
   "source": [
    "We can see that there are some improvements in removing unnecesary characters overall so we will **keep the new changes**. This doesn't mean that we will have no errors whatsoever, there might have been removed information but it's the price we have to pay as unstructured data can't always be perfectly generalized and there will be always be some errors."
   ]
  },
  {
   "cell_type": "markdown",
   "id": "d2d9a82a",
   "metadata": {},
   "source": [
    "##### 10 Sample modified Cultural Indicators"
   ]
  },
  {
   "cell_type": "code",
   "execution_count": 5,
   "id": "d9cbc83f",
   "metadata": {
    "ExecuteTime": {
     "end_time": "2022-04-02T18:49:14.688236Z",
     "start_time": "2022-04-02T18:49:14.663930Z"
    },
    "scrolled": false
   },
   "outputs": [
    {
     "data": {
      "text/markdown": [
       "|     | clean_indicator                                                                              | indicator                                                                                     |\n",
       "|----:|:---------------------------------------------------------------------------------------------|:----------------------------------------------------------------------------------------------|\n",
       "|  61 | Commercial activities linked to Crats, Artisans, Craftsmanship,                              | Commercial activities linked to Crats, Artisans, Craftsmanship,                               |\n",
       "|  65 | Cultural events related to olive farming                                                     | Cultural events related to olive farming (%)                                                  |\n",
       "| 115 | Promotion and education in Past Identities programmes and spaces                             | Promotion and education in  Past Identities’ programmes and spaces                            |\n",
       "| 211 | Respect for residents life-style                                                             | Respect for residents’ life-style                                                             |\n",
       "| 193 | New identities programmes and spaces. Alternative forms of celebrating contemporary culture. | New identities’ programmes and spaces. Alternative forms of celebrating contemporary culture. |\n",
       "| 210 | Respect for residents traditional culture                                                    | Respect for residents’ traditional culture                                                    |\n",
       "| 130 | Institutional management of International fests or expert meetings                           | Institutional management of  International fests or expert meetings                           |\n",
       "| 206 | Type and amount of training given to tourism employees                                       | Type and amount of training given to tourism employees (guide)                                |\n",
       "|  78 | Creative Uses for Old Buildings                                                              | Creative Uses for Old Buildings (Entrepreneurs)                                               |\n",
       "| 135 | Number of citizens initiatives                                                               | Number of citizen’s initiatives                                                               |"
      ],
      "text/plain": [
       "<IPython.core.display.Markdown object>"
      ]
     },
     "metadata": {},
     "output_type": "display_data"
    }
   ],
   "source": [
    "display(Markdown(pd.concat([clean_cultural_indicators.rename('clean_indicator'), \n",
    "           cultural_indicators],\n",
    "          axis=1)[clean_cultural_indicators != cultural_indicators].sample(10, random_state=42).to_markdown()))"
   ]
  },
  {
   "cell_type": "markdown",
   "id": "c33bc429",
   "metadata": {},
   "source": [
    "We can appreciate that **cultural indicators** change less than general ones, mostly because they contain more typos and unnecesary characters instead of years or way too much specific information, although we keep removing some unnecesary words inside the parenthesis."
   ]
  },
  {
   "cell_type": "markdown",
   "id": "9983311d",
   "metadata": {},
   "source": [
    "### Language Translation"
   ]
  },
  {
   "cell_type": "markdown",
   "id": "95609100",
   "metadata": {},
   "source": [
    "For translating the indicators we will be using the library *langdetect*, but it's way too far from being perfect and for this reason we will need to check just the **latin languages** (as germanic languages often confuse the module) as most of the non-english indicators are **spanish** ones, but can be often confused with **portuguese**, **italian**, **french** or **romanian**. \n",
    "\n",
    "Once the indicators are tagged they will be translated to english if one of their tags is a latin one and the result will be compared to the original indicator and if it doesn't match it will be reviewed manually."
   ]
  },
  {
   "cell_type": "code",
   "execution_count": 6,
   "id": "49e3ec0a",
   "metadata": {
    "ExecuteTime": {
     "end_time": "2022-04-02T18:49:14.703612Z",
     "start_time": "2022-04-02T18:49:14.696666Z"
    }
   },
   "outputs": [],
   "source": [
    "def textblob_translate(sentence, from_lang):\n",
    "    \n",
    "    if from_lang in [\"es\", \"it\", \"pt\", \"fr\", \"ro\"]:\n",
    "        try:\n",
    "            return TextBlob(sentence).translate(to='en', from_lang=from_lang)\n",
    "        except:\n",
    "            return sentence \n",
    "    else: \n",
    "        return sentence"
   ]
  },
  {
   "cell_type": "markdown",
   "id": "dd20948b",
   "metadata": {},
   "source": [
    "#### General Indicators"
   ]
  },
  {
   "cell_type": "code",
   "execution_count": 7,
   "id": "f5ceb926",
   "metadata": {
    "ExecuteTime": {
     "end_time": "2022-04-02T18:50:51.003615Z",
     "start_time": "2022-04-02T18:49:14.711050Z"
    }
   },
   "outputs": [],
   "source": [
    "clean_general_indicators = clean_general_indicators[clean_general_indicators != ''].reset_index(drop=True)\n",
    "lang_general_indicators = pd.concat([clean_general_indicators, clean_general_indicators.apply(detect).rename('language')], axis=1)\n",
    "translated = lang_general_indicators.apply(lambda x: textblob_translate(x[\"indicator\"], x[\"language\"]), axis=1).apply(str)\n",
    "final_general_indicators = pd.concat([translated.rename(\"translated_indicator\"), lang_general_indicators], axis=1)"
   ]
  },
  {
   "cell_type": "markdown",
   "id": "4eeaee5b",
   "metadata": {},
   "source": [
    "##### 10 Sample translated  indicators"
   ]
  },
  {
   "cell_type": "code",
   "execution_count": 8,
   "id": "d76b7411",
   "metadata": {
    "ExecuteTime": {
     "end_time": "2022-04-02T18:50:51.034369Z",
     "start_time": "2022-04-02T18:50:51.009567Z"
    },
    "scrolled": true
   },
   "outputs": [
    {
     "data": {
      "text/markdown": [
       "|     | translated_indicator                             | indicator                                        | language   |\n",
       "|----:|:-------------------------------------------------|:-------------------------------------------------|:-----------|\n",
       "| 535 | Financial Administration                         | Financial administration                         | pt         |\n",
       "| 223 | Sustainable Resource Management                  | Sustainable resource management                  | fr         |\n",
       "|  61 | Sustainable Natural Resource Management          | Sustainable natural resource management          | fr         |\n",
       "| 133 | Development Outside Cities                       | Development outside cities                       | fr         |\n",
       "| 393 | Average Travel Timea                             | Average travel timea                             | it         |\n",
       "| 504 | Expenditure on Infrastructure                    | Expenditure on infrastructurea                   | ro         |\n",
       "| 705 | Public Participation                             | Public participation                             | it         |\n",
       "|  96 | Solid residue / efficiency                       | Residuo sólido /Eficiencia                       | es         |\n",
       "| 718 | Participation in Cultural and Leisure Activities | Participation in cultural and leisure activities | ro         |\n",
       "| 179 | Road Surface Per Capita (M 2)                    | Road surface per capita (m 2 )                   | ro         |"
      ],
      "text/plain": [
       "<IPython.core.display.Markdown object>"
      ]
     },
     "metadata": {},
     "output_type": "display_data"
    }
   ],
   "source": [
    "display(Markdown(final_general_indicators[final_general_indicators[\"translated_indicator\"] !=\n",
    "                         final_general_indicators[\"indicator\"]].sample(10, random_state=42).to_markdown()))"
   ]
  },
  {
   "cell_type": "markdown",
   "id": "36eb36ed",
   "metadata": {},
   "source": [
    "With this sample we can see that some indicators get a little bit weird but it's not a huge problem as we are **translating the spanish ones properly**."
   ]
  },
  {
   "cell_type": "markdown",
   "id": "06f43fc3",
   "metadata": {},
   "source": [
    "#### Cultural Indicators"
   ]
  },
  {
   "cell_type": "code",
   "execution_count": 9,
   "id": "733402fe",
   "metadata": {
    "ExecuteTime": {
     "end_time": "2022-04-02T18:51:09.777736Z",
     "start_time": "2022-04-02T18:50:51.037839Z"
    }
   },
   "outputs": [],
   "source": [
    "clean_cultural_indicators = clean_cultural_indicators[clean_cultural_indicators != ''].reset_index(drop=True)\n",
    "lang_cultural_indicators = pd.concat([clean_cultural_indicators, clean_cultural_indicators.apply(detect).rename('language')], axis=1)\n",
    "translated = lang_cultural_indicators.apply(lambda x: textblob_translate(x[\"indicator\"], x[\"language\"]), axis=1).apply(str)\n",
    "final_cultural_indicators = pd.concat([translated.rename(\"translated_indicator\"), lang_cultural_indicators], axis=1)"
   ]
  },
  {
   "cell_type": "markdown",
   "id": "51f81d2d",
   "metadata": {},
   "source": [
    "##### 10 Sample translated  indicators"
   ]
  },
  {
   "cell_type": "code",
   "execution_count": 10,
   "id": "9970380a",
   "metadata": {
    "ExecuteTime": {
     "end_time": "2022-04-02T18:51:09.808489Z",
     "start_time": "2022-04-02T18:51:09.781702Z"
    }
   },
   "outputs": [
    {
     "data": {
      "text/markdown": [
       "|     | translated_indicator                                    | indicator                                                 | language   |\n",
       "|----:|:--------------------------------------------------------|:----------------------------------------------------------|:-----------|\n",
       "| 122 | Cultural Cultural Exchange                              | Increase cultural exchange                                | ro         |\n",
       "| 160 | Historic Monument Values                                | Historic monument values                                  | ro         |\n",
       "|   3 | Inspirational Landscapes                                | Inspirational landscapes                                  | it         |\n",
       "| 222 | Memorial Stones                                         | Memorial stones                                           | it         |\n",
       "| 100 | EFFECT ON AREA REVITALIZATION / DEVELOPMENT             | Effect on area revitalization/development                 | ro         |\n",
       "| 118 | Cultural, Leisure and Sport Facilities, Programs, Races | Cultural, leisure and sport facilities, programs, courses | fr         |\n",
       "|   9 | Spiritual Sites                                         | Spiritual sites                                           | it         |\n",
       "|   7 | Beautiful, Attractive Place                             | Beautiful, attractive place                               | fr         |\n",
       "| 256 | L / T Ratio                                             | L/T ratio                                                 | fr         |\n",
       "|  96 | Cultural Sites Maintenance Level                        | Cultural sites maintenance level                          | fr         |"
      ],
      "text/plain": [
       "<IPython.core.display.Markdown object>"
      ]
     },
     "metadata": {},
     "output_type": "display_data"
    }
   ],
   "source": [
    "display(Markdown(final_cultural_indicators[final_cultural_indicators[\"translated_indicator\"] !=\n",
    "                          final_cultural_indicators[\"indicator\"]].sample(10, random_state=42).to_markdown()))"
   ]
  },
  {
   "cell_type": "markdown",
   "id": "0a40f592",
   "metadata": {},
   "source": [
    "In this case it's not a big deal and we might be distorting some indicators so we will just revert the changes to the **raw indicators**."
   ]
  },
  {
   "cell_type": "markdown",
   "id": "3e12c8e1",
   "metadata": {},
   "source": [
    "### Removing Duplicates &  Exporting"
   ]
  },
  {
   "cell_type": "markdown",
   "id": "61fb286a",
   "metadata": {},
   "source": [
    "We have previously removed duplicates but now we will be focusing in the duplicates **between cultural and general indicators**. If any of them is shared by both, it will be removed from the **general indicators** (as it is more specific to understand that it is actually a cultural one).\n",
    "\n",
    "Now the indicators are clean enough to start working with them, we will export them in a **two columns** dataframe containing the translated, **clean indicators** and their relative **indicator type** (general-cultural). The next step will be the model selection and the analysis of the relationship between the indicators."
   ]
  },
  {
   "cell_type": "code",
   "execution_count": 11,
   "id": "d0807fb3",
   "metadata": {
    "ExecuteTime": {
     "end_time": "2022-04-02T18:51:09.854616Z",
     "start_time": "2022-04-02T18:51:09.811464Z"
    }
   },
   "outputs": [],
   "source": [
    "export_general_indicators = pd.concat([final_general_indicators[\"translated_indicator\"].rename(\"indicator\"), \n",
    "                           pd.Series(['general' for row in range(len(final_general_indicators))]).rename(\"type\")], \n",
    "                           axis=1)\n",
    "\n",
    "export_cultural_indicators = pd.concat([final_cultural_indicators[\"indicator\"], \n",
    "                           pd.Series(['cultural' for row in range(len(final_cultural_indicators))]).rename(\"type\")], \n",
    "                           axis=1)\n",
    "\n",
    "duplicate_values = pd.concat([export_general_indicators, \n",
    "                              export_cultural_indicators]).reset_index(drop=True)[\"indicator\"].str.lower().drop_duplicates()\n",
    "\n",
    "pd.concat([export_general_indicators, \n",
    "           export_cultural_indicators]).reset_index(drop=True).loc[duplicate_values.index].to_csv(path + \"clean_indicators.csv\", index=False)"
   ]
  },
  {
   "cell_type": "code",
   "execution_count": 12,
   "id": "dc16515c",
   "metadata": {
    "ExecuteTime": {
     "end_time": "2022-04-02T18:51:09.869990Z",
     "start_time": "2022-04-02T18:51:09.857592Z"
    },
    "scrolled": true,
    "tags": [
     "hide"
    ]
   },
   "outputs": [],
   "source": [
    "#!jupyter nbconvert \"Clean Indicators.ipynb\" --to html_toc --TemplateExporter.exclude_input=True -TagRemovePreprocessor.remove_cell_tags=\"hide\" "
   ]
  }
 ],
 "metadata": {
  "kernelspec": {
   "display_name": "Python 3 (ipykernel)",
   "language": "python",
   "name": "python3"
  },
  "language_info": {
   "codemirror_mode": {
    "name": "ipython",
    "version": 3
   },
   "file_extension": ".py",
   "mimetype": "text/x-python",
   "name": "python",
   "nbconvert_exporter": "python",
   "pygments_lexer": "ipython3",
   "version": "3.7.10"
  },
  "toc": {
   "base_numbering": 1,
   "nav_menu": {},
   "number_sections": true,
   "sideBar": true,
   "skip_h1_title": false,
   "title_cell": "Table of Contents",
   "title_sidebar": "Contents",
   "toc_cell": false,
   "toc_position": {
    "height": "calc(100% - 180px)",
    "left": "10px",
    "top": "150px",
    "width": "223.733px"
   },
   "toc_section_display": true,
   "toc_window_display": true
  }
 },
 "nbformat": 4,
 "nbformat_minor": 5
}
