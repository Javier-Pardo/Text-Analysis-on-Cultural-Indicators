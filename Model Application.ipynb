{
 "cells": [
  {
   "cell_type": "markdown",
   "id": "9910ebcb",
   "metadata": {},
   "source": [
    "# Model Application"
   ]
  },
  {
   "cell_type": "markdown",
   "id": "19b5973f",
   "metadata": {},
   "source": [
    "Finally we have our model *fine-tuned* and ready to work, but there is a drawback for transformers (*word-embedding*) we have not mentioned before: **Transformers** performance decreases with the length of the text that is passed through it. This is not critical but we will try to fix it by **reducing the number of words** of the texts *removing stopwords* and then not applying the model once, but applying it for every **subsentence** defined as all the words between the '**.**' and '**,**' characters. With this we aim to **reduce the vagueness** of the model for long texts."
   ]
  },
  {
   "cell_type": "markdown",
   "id": "3707d967",
   "metadata": {
    "tags": [
     "hide"
    ]
   },
   "source": [
    "## Environment"
   ]
  },
  {
   "cell_type": "markdown",
   "id": "89e24c9c",
   "metadata": {
    "heading_collapsed": true,
    "tags": [
     "hide"
    ]
   },
   "source": [
    "### Libraries"
   ]
  },
  {
   "cell_type": "code",
   "execution_count": 1,
   "id": "1721d18e",
   "metadata": {
    "ExecuteTime": {
     "end_time": "2022-04-02T18:55:45.651526Z",
     "start_time": "2022-04-02T18:55:33.526510Z"
    },
    "hidden": true,
    "hide_input": false,
    "scrolled": true,
    "tags": [
     "hide"
    ]
   },
   "outputs": [],
   "source": [
    "# Base\n",
    "import warnings\n",
    "import numpy as np\n",
    "import pandas as pd\n",
    "import pickle\n",
    "warnings.simplefilter(action='ignore', category=FutureWarning)\n",
    "\n",
    "# Visualization\n",
    "from IPython.display import Markdown\n",
    "import ipywidgets as widgets\n",
    "from plotly.graph_objs import FigureWidget\n",
    "import matplotlib.pyplot as plt\n",
    "import plotly.graph_objects as go\n",
    "import plotly.express as px\n",
    "from tqdm import tqdm\n",
    "\n",
    "#Sentence Transformes framework (HuggingFace)\n",
    "from sentence_transformers import SentenceTransformer\n",
    "\n",
    "# Cosine similarity\n",
    "from sklearn.metrics.pairwise  import cosine_similarity\n",
    "\n",
    "# NLP\n",
    "import spacy\n",
    "from spacy.lang.en.stop_words import STOP_WORDS as stop_words\n",
    "sp = spacy.load('en_core_web_sm')"
   ]
  },
  {
   "cell_type": "markdown",
   "id": "521edca9",
   "metadata": {
    "heading_collapsed": true,
    "tags": [
     "hide"
    ]
   },
   "source": [
    "### Load Models & Indicators"
   ]
  },
  {
   "cell_type": "code",
   "execution_count": 2,
   "id": "336d7819",
   "metadata": {
    "ExecuteTime": {
     "end_time": "2022-04-02T18:55:50.967682Z",
     "start_time": "2022-04-02T18:55:45.654514Z"
    },
    "hidden": true,
    "hide_input": false,
    "tags": [
     "hide"
    ]
   },
   "outputs": [],
   "source": [
    "roberta_stsb = SentenceTransformer('stsb-roberta-large')\n",
    "encoded_indicators = pd.read_csv('Indicators/encoded_indicators.csv').set_index('indicator')\n",
    "encoded_indicators.columns =[int(c) for c in encoded_indicators.columns]\n",
    "\n",
    "with open('Files/fitted_pca.pickle', \"rb\") as file:\n",
    "    pca = pickle.load(file)\n",
    "    \n",
    "with open('Files/commitment_texts.pickle', \"rb\") as file:\n",
    "    commitment_texts = pickle.load(file)"
   ]
  },
  {
   "cell_type": "markdown",
   "id": "6f4f67a5",
   "metadata": {
    "heading_collapsed": true,
    "tags": [
     "hide"
    ]
   },
   "source": [
    "### Functions"
   ]
  },
  {
   "cell_type": "code",
   "execution_count": 3,
   "id": "d142fcfa",
   "metadata": {
    "ExecuteTime": {
     "end_time": "2022-04-02T18:55:51.013516Z",
     "start_time": "2022-04-02T18:55:50.974661Z"
    },
    "hidden": true,
    "hide_input": false,
    "tags": [
     "hide"
    ]
   },
   "outputs": [],
   "source": [
    "def remove_stopwords(text: str):\n",
    "    \n",
    "    \"\"\"\n",
    "    Removes stopwords from a given text\n",
    "    \"\"\" \n",
    "    \n",
    "    return ' '.join([token.text for token in sp(text) if not token.is_stop]).strip()\n",
    "\n",
    "\n",
    "def base_encoding(sentences: list):\n",
    "    \n",
    "    \"\"\"\n",
    "    Encodes a given list of sentences to match \n",
    "    the dimensions of the encoded indicators\n",
    "    \"\"\"\n",
    "    encoded_sentences = pca.transform(roberta_stsb.encode(pd.Series(sentences).apply(remove_stopwords)))\n",
    "    return pd.DataFrame(encoded_sentences, index=sentences)\n",
    "\n",
    "\n",
    "def match_sentences_indicators(sentences: list):\n",
    "    \n",
    "    \"\"\"\n",
    "    Matches given sentences to encoded\n",
    "    indicators in a \"correlation\" matrix\n",
    "    \"\"\"\n",
    "    \n",
    "    final_matrix = pd.concat([encoded_indicators, base_encoding(sentences)])\n",
    "    return pd.DataFrame(cosine_similarity(final_matrix), index=final_matrix.index, columns=final_matrix.index)\n",
    "\n",
    "\n",
    "def sentence_top_matches(matched_sentences: list,\n",
    "                         sentences_matrix: pd.DataFrame = None,\n",
    "                         valid_sentences: list = list(encoded_indicators.index),\n",
    "                         n_top=5):\n",
    "    \n",
    "    \"\"\"\n",
    "    Applies the previously defined functions to return \n",
    "    the top matches of the given list of sentences\n",
    "    \"\"\"\n",
    "    \n",
    "    if not sentences_matrix:\n",
    "        sentences_matrix = match_sentences_indicators(matched_sentences)\n",
    "    \n",
    "    matched_sentences = sentences_matrix.loc[matched_sentences][valid_sentences].drop_duplicates()\n",
    "    matched_sentences = matched_sentences.unstack().sort_values(ascending=False)\n",
    "    final_matched_sentences = matched_sentences[matched_sentences < 0.999].groupby(level=1).head(n_top).reset_index()\n",
    "    final_matches = final_matched_sentences.groupby(\"level_1\").agg(list)\n",
    "    \n",
    "    indexes = pd.DataFrame(final_matches[\"level_0\"].to_list())\n",
    "    indexes.columns = ['top_match_' + str(c) for c in indexes.columns]\n",
    "    indexes.index = final_matches.index\n",
    "    \n",
    "    similarities = pd.DataFrame(final_matches[0].to_list())\n",
    "    similarities.columns = ['similarity_' + str(c) for c in similarities.columns]  \n",
    "    similarities.index = final_matches.index\n",
    "    \n",
    "    return pd.concat([final_matches.drop(columns=[\"level_0\", 0]), pd.concat([indexes, similarities], axis=1)], axis=1)\n",
    "\n",
    "\n",
    "def remove_subtext(text_list: list, minimum_length: int):\n",
    "    \n",
    "    \"\"\"\n",
    "    Filters strings with less words than the given number \n",
    "    (minimum_length) from a given list of strings (text_list)\n",
    "    \"\"\"\n",
    "    \n",
    "    return [text.strip() for text in text_list if len(text.strip().split(\" \")) >= minimum_length]\n",
    "\n",
    "\n",
    "def process_sentences(text_list: list, minimum_length: int=3):\n",
    "    \n",
    "    \"\"\"\n",
    "    Processes the strings within the given list with \n",
    "    the remove_subtext function splitting the\n",
    "    original list when finding a dot or a coma\n",
    "    \"\"\"\n",
    "    \n",
    "    return pd.Series(text_list).str.replace(\",\", \".\").str.split(\".\").apply(lambda x: remove_subtext(x, minimum_length))\n",
    "\n",
    "\n",
    "def subsentences_top_matches(text_list: list,\n",
    "                             minimum_length: int=3,\n",
    "                             n_top_calc:int=10):\n",
    "    \n",
    "    \"\"\"\n",
    "    \n",
    "    \"\"\"\n",
    "    \n",
    "    text_dataframe = pd.DataFrame(pd.Series(text_list, name='text'))\n",
    "    exploded_df = pd.DataFrame(process_sentences(text_list, minimum_length).explode()).reset_index().set_index(0)\n",
    "    exploded_df.index.names = ['sentence']\n",
    "    \n",
    "    final_df = text_dataframe.merge(exploded_df, left_index=True, right_on='index').drop(columns='index')\n",
    "    final_df = final_df[final_df.index.notnull()]\n",
    "    \n",
    "    return final_df.join(sentence_top_matches(list(final_df.index), n_top=n_top_calc))\n",
    "\n",
    "\n",
    "def soft_voting_classifier(series: pd.Series,\n",
    "                           n_top:int=3):\n",
    "    \n",
    "    \"\"\"\n",
    "    Ranks the highest similarity matches for a  \n",
    "    given series containing all of their values\n",
    "    \"\"\"\n",
    "    \n",
    "    values = pd.DataFrame(series).apply(pd.Series.explode).reset_index()\n",
    "    \n",
    "    final_top_matches = {}\n",
    "    \n",
    "    matches = values[values[\"index\"].str.contains('top_match')][series.name]\n",
    "    similarities = values[values[\"index\"].str.contains('similarity')][series.name]\n",
    "    \n",
    "    for match, similarity in zip(matches, similarities):\n",
    "        if match not in final_top_matches:\n",
    "            final_top_matches[match] = similarity\n",
    "        else:\n",
    "            final_top_matches[match] += similarity\n",
    "            \n",
    "    processed_dict = pd.Series(final_top_matches).sort_values(ascending=False)[:n_top].reset_index()\n",
    "    processed_dict = processed_dict.rename(columns={\"index\": 'top_match', 0: 'similarity'})\n",
    "    \n",
    "    return {'_'.join([str(i) for i in k]):v for k, v in processed_dict.T.stack().to_dict().items()}\n",
    "\n",
    "\n",
    "def robust_sentence_top_matches(text_list: list,\n",
    "                                minimum_length: int=3,\n",
    "                                n_top:int=5,\n",
    "                                n_top_calc:int=10):\n",
    "    \n",
    "    \"\"\"\n",
    "    Applies the previously defined functions to return \n",
    "    the top submatches ranked by the voting classifier and\n",
    "    returns them in the same format as sentence_top_matches\n",
    "    \"\"\"\n",
    "    \n",
    "    processed_sentences = subsentences_top_matches(text_list, minimum_length, n_top_calc).groupby('text').agg(list).T\n",
    "    return processed_sentences.apply(lambda x: soft_voting_classifier(x, n_top)).apply(pd.Series)"
   ]
  },
  {
   "cell_type": "markdown",
   "id": "242a1c28",
   "metadata": {},
   "source": [
    "## Word Embedding Limitations"
   ]
  },
  {
   "cell_type": "markdown",
   "id": "204353f2",
   "metadata": {},
   "source": [
    "As we have mentioned, one of the main limitations of the *Contextual Word Embeddings* like **Roberta** (although we are not interested in the embedding of words, but the sentence itself) is that it becomes weaker the longer the sentences are. The main reason if this tend to be two:\n",
    "\n",
    "* Longer sentences dilute the relevance of the words it contains. It can be seen clearly with the following examples:\n",
    "    * *I eat pizza*\n",
    "    * *I eat pizza with my family because today is my birthday*\n",
    "    \n",
    "    We can easily measure the importance of the words in the first sentence(*subject*: **I**, *action*: **Eat**, *object*: **Pizza**).\n",
    "    \n",
    "    But it will not be as easy in the second sentence. In this case the relevant subject is *not so clear*, the one performing the actions is **We** as they all are eating, but it is due to the **birthday** of one of them, which is more important? And what about the object, we do eat **pizza**, but it is due to the **birthday**, which one is more relevant? Would this sentence be closer to \"*I eat pizza*\" or \"*I celebrate my birthday with my family*\"?\n",
    "    \n",
    "    \n",
    "* Not only longer sentences have more **ambiguous components** but they have **more components** and the size of the encoded sentence will always be the same (around 1000 in this case, but *fine-tuned* to **52**) which means that we can arrive to a point in which we will just run out of dimensions to represent the sentence properly. It can be fixed increasing the number of dimensions of the model but then you are dangerously sensitive to **overfitting** and that is the main reason we *fine-tuned* the model, to avoid it, but then we are sensitive to this problem of running out of dimensions.\n",
    "    "
   ]
  },
  {
   "cell_type": "markdown",
   "id": "7c1af23a",
   "metadata": {},
   "source": [
    "### Check Commitments"
   ]
  },
  {
   "cell_type": "markdown",
   "id": "af8bcfd0",
   "metadata": {},
   "source": [
    "Even though our model shouldn't be fitted to long sentences we will check how it behaves with a small sample extracted from some commitments."
   ]
  },
  {
   "cell_type": "code",
   "execution_count": 4,
   "id": "48cbb32d",
   "metadata": {
    "ExecuteTime": {
     "end_time": "2022-04-02T18:56:08.712954Z",
     "start_time": "2022-04-02T18:55:51.016507Z"
    },
    "scrolled": false
   },
   "outputs": [
    {
     "data": {
      "text/markdown": [
       "| level_1                                                                                                                                                                                                                                                                                                                                                                                                                                                                                                                                                                                                                      | top_match_0                                                               | top_match_1                                                                                  | top_match_2                                                                         |   similarity_0 |   similarity_1 |   similarity_2 |\n",
       "|:-----------------------------------------------------------------------------------------------------------------------------------------------------------------------------------------------------------------------------------------------------------------------------------------------------------------------------------------------------------------------------------------------------------------------------------------------------------------------------------------------------------------------------------------------------------------------------------------------------------------------------|:--------------------------------------------------------------------------|:---------------------------------------------------------------------------------------------|:------------------------------------------------------------------------------------|---------------:|---------------:|---------------:|\n",
       "| By 2050, the world’s urban population is expected to nearly double, making urbanization one of the twenty-first century’s most transformative trends. Populations, economic activities, social and cultural interactions, as well as environmental and humanitarian impacts, are increasingly concentrated in cities, and this poses massive sustainability challenges in terms of housing, infrastructure, basic services, food security, health, education, decent jobs, safety and natural resources, among others.                                                                                                       | Overcrowding                                                              | Urban sprawl                                                                                 | Percentage of population exposed to noise levels >50 dba                            |       0.540603 |       0.526874 |       0.511104 |\n",
       "| We will promote planned urban extensions and infill, prioritizing renewal, regeneration and retrofitting of urban areas, as appropriate, including the upgrading of slums and informal settlements, providing high-quality buildings and public spaces, promoting integrated and participatory approaches involving all relevant stakeholders and inhabitants and avoiding spatial and socioeconomic segregation and gentrification, while preserving cultural heritage and preventing and containing urban sprawl.                                                                                                          | design features that allow for social interaction (parking, squares, etc) | Funds for the improvement of the physical urban environment                                  | Effect on area revitalization/development                                           |       0.559296 |       0.546886 |       0.522856 |\n",
       "| We will include culture as a priority component of urban plans and strategies in the adoption of planning instruments, including master plans, zoning guidelines, building codes, coastal management policies and strategic development policies that safeguard a diverse range of tangible and intangible cultural heritage and landscapes, and will protect them from potential disruptive impacts of urban development.                                                                                                                                                                                                   | Conservation of specific important habitats and cultural sites            | Protecting and enhancing cultural heritage, local identity and assets                        | Health, safety and enivironmental initiatives and innovations in municipality level |       0.614092 |       0.590268 |       0.533319 |\n",
       "| The New Urban Agenda acknowledges that culture and cultural diversity are sources of enrichment for humankind and provide an important contribution to the sustainable development of cities, human settlements and citizens, empowering them to play an active and unique role in development initiatives. The New Urban Agenda further recognizes that culture should be taken into account in the promotion and implementation of new sustainable consumption and production patterns that contribute to the responsible use of resources and address the adverse impact of climate change.                               | Shift in level of pride in local cultural heritage                        | New identities programmes and spaces. Alternative forms of celebrating contemporary culture. | Innovation and creativity to experience nature and cultural heritage                |       0.595359 |       0.592083 |       0.586385 |\n",
       "| We commit ourselves to stimulating the supply of a variety of adequate housing options that are safe, affordable and accessible for members of different income groups of society, taking into consideration the socioeconomic and cultural integration of marginalized communities, homeless persons and those in vulnerable situations and preventing segregation. We will take positive measures to improve the living conditions of homeless people, with a view to facilitating their full participation in society, and to prevent and eliminate homelessness, as well as to combat and eliminate its criminalization. | Housing quality (area per capita), informal housing and slum reduction    | Using smart solutions to enhance accessibility to services and amenities                     | Quick response system to municipal Health, safety and enivironmental problems       |       0.630492 |       0.577983 |       0.513161 |"
      ],
      "text/plain": [
       "<IPython.core.display.Markdown object>"
      ]
     },
     "metadata": {},
     "output_type": "display_data"
    }
   ],
   "source": [
    "display(Markdown(sentence_top_matches(commitment_texts, n_top=3).sample(5, random_state=42).to_markdown()))"
   ]
  },
  {
   "cell_type": "markdown",
   "id": "2b3acc6f",
   "metadata": {},
   "source": [
    "We can see that the top indicator similarity value declines **dramatically** in comparison of the previous notebook (median of **0.74**), due to the causes we just explained above. But even though this happens, it is still able to recognise the most important meaning of the sentences overall even if we find some ambiguous indicators (*Health, safety and enivironmental initiatives and innovations in municipality level*)."
   ]
  },
  {
   "cell_type": "markdown",
   "id": "11155b50",
   "metadata": {},
   "source": [
    "### Full vs Batch comparisons"
   ]
  },
  {
   "cell_type": "markdown",
   "id": "15b0079c",
   "metadata": {},
   "source": [
    "Now we will be comparing one by one the **base model** (*Full*) vs the **soft-voting classifier** (*Batch*).\n",
    "\n",
    "The **soft-voting classifier** will take every sentence and split it in every **coma** and **dot** and applying the model separately, computing a weighted sum of indicators (*Now there is no similarity maximum*). The most repeated (and most relevant) indicators will then be selected as the top indicators."
   ]
  },
  {
   "cell_type": "code",
   "execution_count": 5,
   "id": "0c192b5b",
   "metadata": {
    "ExecuteTime": {
     "end_time": "2022-04-02T18:56:15.433677Z",
     "start_time": "2022-04-02T18:56:08.715947Z"
    }
   },
   "outputs": [],
   "source": [
    "trial_list = list(sentence_top_matches(commitment_texts, n_top=3).sample(5, random_state=42).index)\n",
    "robust_matched_sentences = robust_sentence_top_matches(trial_list, n_top=3)\n",
    "matched_sentences = sentence_top_matches(trial_list, n_top=3)"
   ]
  },
  {
   "cell_type": "markdown",
   "id": "53417a25",
   "metadata": {},
   "source": [
    "#### Population and Urban challenges"
   ]
  },
  {
   "cell_type": "markdown",
   "id": "35444726",
   "metadata": {},
   "source": [
    "##### Full"
   ]
  },
  {
   "cell_type": "code",
   "execution_count": 6,
   "id": "dd93b9ed",
   "metadata": {
    "ExecuteTime": {
     "end_time": "2022-04-02T18:56:15.448637Z",
     "start_time": "2022-04-02T18:56:15.435677Z"
    }
   },
   "outputs": [
    {
     "data": {
      "text/markdown": [
       "| level_1                                                                                                                                                                                                                                                                                                                                                                                                                                                                                                                | top_match_0   | top_match_1   | top_match_2                                              |   similarity_0 |   similarity_1 |   similarity_2 |\n",
       "|:-----------------------------------------------------------------------------------------------------------------------------------------------------------------------------------------------------------------------------------------------------------------------------------------------------------------------------------------------------------------------------------------------------------------------------------------------------------------------------------------------------------------------|:--------------|:--------------|:---------------------------------------------------------|---------------:|---------------:|---------------:|\n",
       "| By 2050, the world’s urban population is expected to nearly double, making urbanization one of the twenty-first century’s most transformative trends. Populations, economic activities, social and cultural interactions, as well as environmental and humanitarian impacts, are increasingly concentrated in cities, and this poses massive sustainability challenges in terms of housing, infrastructure, basic services, food security, health, education, decent jobs, safety and natural resources, among others. | Overcrowding  | Urban sprawl  | Percentage of population exposed to noise levels >50 dba |       0.540603 |       0.526874 |       0.511104 |"
      ],
      "text/plain": [
       "<IPython.core.display.Markdown object>"
      ]
     },
     "metadata": {},
     "output_type": "display_data"
    }
   ],
   "source": [
    "display(Markdown(matched_sentences[:1].to_markdown()))"
   ]
  },
  {
   "cell_type": "markdown",
   "id": "02fde584",
   "metadata": {},
   "source": [
    "##### Batches"
   ]
  },
  {
   "cell_type": "code",
   "execution_count": 7,
   "id": "33b2eb0b",
   "metadata": {
    "ExecuteTime": {
     "end_time": "2022-04-02T18:56:15.479554Z",
     "start_time": "2022-04-02T18:56:15.452627Z"
    }
   },
   "outputs": [
    {
     "data": {
      "text/markdown": [
       "| text                                                                                                                                                                                                                                                                                                                                                                                                                                                                                                                   | top_match_0   | top_match_1                 | top_match_2       |   similarity_0 |   similarity_1 |   similarity_2 |\n",
       "|:-----------------------------------------------------------------------------------------------------------------------------------------------------------------------------------------------------------------------------------------------------------------------------------------------------------------------------------------------------------------------------------------------------------------------------------------------------------------------------------------------------------------------|:--------------|:----------------------------|:------------------|---------------:|---------------:|---------------:|\n",
       "| By 2050, the world’s urban population is expected to nearly double, making urbanization one of the twenty-first century’s most transformative trends. Populations, economic activities, social and cultural interactions, as well as environmental and humanitarian impacts, are increasingly concentrated in cities, and this poses massive sustainability challenges in terms of housing, infrastructure, basic services, food security, health, education, decent jobs, safety and natural resources, among others. | Urban sprawl  | Density of urban population | Urbanization Rate |        2.14667 |        2.05877 |        1.92701 |"
      ],
      "text/plain": [
       "<IPython.core.display.Markdown object>"
      ]
     },
     "metadata": {},
     "output_type": "display_data"
    }
   ],
   "source": [
    "display(Markdown(robust_matched_sentences[:1].to_markdown()))"
   ]
  },
  {
   "cell_type": "markdown",
   "id": "c58b6671",
   "metadata": {},
   "source": [
    "##### Thoughts"
   ]
  },
  {
   "cell_type": "markdown",
   "id": "80c7af78",
   "metadata": {},
   "source": [
    "We can see a slight improvement in the batch as it points at **density of urban population** (*DUP*) (*overcrowding* is a specific case in which *DUP* is very high) and **Urbanization rate**, while the Full sentence pointed to a *spurious relation* (that is not wrong, just not representative enough) of **noise levels**,"
   ]
  },
  {
   "cell_type": "markdown",
   "id": "ddc6ba58",
   "metadata": {},
   "source": [
    "#### Urban Agenda for Cultural Diversity "
   ]
  },
  {
   "cell_type": "markdown",
   "id": "65bad00f",
   "metadata": {},
   "source": [
    "##### Full"
   ]
  },
  {
   "cell_type": "code",
   "execution_count": 8,
   "id": "5ab648e8",
   "metadata": {
    "ExecuteTime": {
     "end_time": "2022-04-02T18:56:15.494514Z",
     "start_time": "2022-04-02T18:56:15.482547Z"
    },
    "hide_input": true
   },
   "outputs": [
    {
     "data": {
      "text/markdown": [
       "| level_1                                                                                                                                                                                                                                                                                                                                                                                                                                                                                                                                                                                        | top_match_0                                        | top_match_1                                                                                  | top_match_2                                                          |   similarity_0 |   similarity_1 |   similarity_2 |\n",
       "|:-----------------------------------------------------------------------------------------------------------------------------------------------------------------------------------------------------------------------------------------------------------------------------------------------------------------------------------------------------------------------------------------------------------------------------------------------------------------------------------------------------------------------------------------------------------------------------------------------|:---------------------------------------------------|:---------------------------------------------------------------------------------------------|:---------------------------------------------------------------------|---------------:|---------------:|---------------:|\n",
       "| The New Urban Agenda acknowledges that culture and cultural diversity are sources of enrichment for humankind and provide an important contribution to the sustainable development of cities, human settlements and citizens, empowering them to play an active and unique role in development initiatives. The New Urban Agenda further recognizes that culture should be taken into account in the promotion and implementation of new sustainable consumption and production patterns that contribute to the responsible use of resources and address the adverse impact of climate change. | Shift in level of pride in local cultural heritage | New identities programmes and spaces. Alternative forms of celebrating contemporary culture. | Innovation and creativity to experience nature and cultural heritage |       0.595359 |       0.592083 |       0.586385 |"
      ],
      "text/plain": [
       "<IPython.core.display.Markdown object>"
      ]
     },
     "metadata": {},
     "output_type": "display_data"
    }
   ],
   "source": [
    "display(Markdown(matched_sentences[1:2].to_markdown()))"
   ]
  },
  {
   "cell_type": "markdown",
   "id": "2125f9a4",
   "metadata": {},
   "source": [
    "##### Batches"
   ]
  },
  {
   "cell_type": "code",
   "execution_count": 9,
   "id": "013445a7",
   "metadata": {
    "ExecuteTime": {
     "end_time": "2022-04-02T18:56:15.509475Z",
     "start_time": "2022-04-02T18:56:15.499501Z"
    },
    "hide_input": true
   },
   "outputs": [
    {
     "data": {
      "text/markdown": [
       "| text                                                                                                                                                                                                                                                                                                                                                                                                                                                                                                                                                                                           | top_match_0                                                | top_match_1                                        | top_match_2                 |   similarity_0 |   similarity_1 |   similarity_2 |\n",
       "|:-----------------------------------------------------------------------------------------------------------------------------------------------------------------------------------------------------------------------------------------------------------------------------------------------------------------------------------------------------------------------------------------------------------------------------------------------------------------------------------------------------------------------------------------------------------------------------------------------|:-----------------------------------------------------------|:---------------------------------------------------|:----------------------------|---------------:|---------------:|---------------:|\n",
       "| The New Urban Agenda acknowledges that culture and cultural diversity are sources of enrichment for humankind and provide an important contribution to the sustainable development of cities, human settlements and citizens, empowering them to play an active and unique role in development initiatives. The New Urban Agenda further recognizes that culture should be taken into account in the promotion and implementation of new sustainable consumption and production patterns that contribute to the responsible use of resources and address the adverse impact of climate change. | Strong leadership promoting innovation and smart solutions | Shift in level of pride in local cultural heritage | Resident population density |        1.04755 |       0.683924 |       0.683463 |"
      ],
      "text/plain": [
       "<IPython.core.display.Markdown object>"
      ]
     },
     "metadata": {},
     "output_type": "display_data"
    }
   ],
   "source": [
    "display(Markdown(robust_matched_sentences[1:2].to_markdown()))"
   ]
  },
  {
   "cell_type": "markdown",
   "id": "f2e7ed7c",
   "metadata": {},
   "source": [
    "##### Thoughts"
   ]
  },
  {
   "cell_type": "markdown",
   "id": "28a76aa5",
   "metadata": {},
   "source": [
    "In this case the improvement is not so clear, even we could say the base model performed better. Both of them undertood the cultural impact (*Shift in level of pride in local cultural heritage*) but the batch model **gives more importance to the action** and plan than to the **subject itself**, which is not wrong but **may not be as specific**. There is also a curious spurious relation in the batch model: **Resident population density**, it is not the same than the previous one as it changes 'Urban' for 'Resident' which makes more sense to this specific text, but as we said, not as specific as the full model."
   ]
  },
  {
   "cell_type": "markdown",
   "id": "bb68946d",
   "metadata": {},
   "source": [
    "#### Housing, Marginalized Communities & Inequality"
   ]
  },
  {
   "cell_type": "markdown",
   "id": "2d1666ae",
   "metadata": {},
   "source": [
    "##### Full"
   ]
  },
  {
   "cell_type": "code",
   "execution_count": 10,
   "id": "0be028db",
   "metadata": {
    "ExecuteTime": {
     "end_time": "2022-04-02T18:56:15.525433Z",
     "start_time": "2022-04-02T18:56:15.513464Z"
    },
    "hide_input": true
   },
   "outputs": [
    {
     "data": {
      "text/markdown": [
       "| level_1                                                                                                                                                                                                                                                                                                                                                                                                                                                                                                                                                                                                                      | top_match_0                                                            | top_match_1                                                              | top_match_2                                                                   |   similarity_0 |   similarity_1 |   similarity_2 |\n",
       "|:-----------------------------------------------------------------------------------------------------------------------------------------------------------------------------------------------------------------------------------------------------------------------------------------------------------------------------------------------------------------------------------------------------------------------------------------------------------------------------------------------------------------------------------------------------------------------------------------------------------------------------|:-----------------------------------------------------------------------|:-------------------------------------------------------------------------|:------------------------------------------------------------------------------|---------------:|---------------:|---------------:|\n",
       "| We commit ourselves to stimulating the supply of a variety of adequate housing options that are safe, affordable and accessible for members of different income groups of society, taking into consideration the socioeconomic and cultural integration of marginalized communities, homeless persons and those in vulnerable situations and preventing segregation. We will take positive measures to improve the living conditions of homeless people, with a view to facilitating their full participation in society, and to prevent and eliminate homelessness, as well as to combat and eliminate its criminalization. | Housing quality (area per capita), informal housing and slum reduction | Using smart solutions to enhance accessibility to services and amenities | Quick response system to municipal Health, safety and enivironmental problems |       0.630492 |       0.577984 |       0.513161 |"
      ],
      "text/plain": [
       "<IPython.core.display.Markdown object>"
      ]
     },
     "metadata": {},
     "output_type": "display_data"
    }
   ],
   "source": [
    "display(Markdown(matched_sentences[2:3].to_markdown()))"
   ]
  },
  {
   "cell_type": "markdown",
   "id": "f8712ca6",
   "metadata": {},
   "source": [
    "##### Batches"
   ]
  },
  {
   "cell_type": "code",
   "execution_count": 11,
   "id": "3a316c60",
   "metadata": {
    "ExecuteTime": {
     "end_time": "2022-04-02T18:56:15.540392Z",
     "start_time": "2022-04-02T18:56:15.528424Z"
    },
    "hide_input": true
   },
   "outputs": [
    {
     "data": {
      "text/markdown": [
       "| text                                                                                                                                                                                                                                                                                                                                                                                                                                                                                                                                                                                                                         | top_match_0        | top_match_1                     | top_match_2                     |   similarity_0 |   similarity_1 |   similarity_2 |\n",
       "|:-----------------------------------------------------------------------------------------------------------------------------------------------------------------------------------------------------------------------------------------------------------------------------------------------------------------------------------------------------------------------------------------------------------------------------------------------------------------------------------------------------------------------------------------------------------------------------------------------------------------------------|:-------------------|:--------------------------------|:--------------------------------|---------------:|---------------:|---------------:|\n",
       "| We commit ourselves to stimulating the supply of a variety of adequate housing options that are safe, affordable and accessible for members of different income groups of society, taking into consideration the socioeconomic and cultural integration of marginalized communities, homeless persons and those in vulnerable situations and preventing segregation. We will take positive measures to improve the living conditions of homeless people, with a view to facilitating their full participation in society, and to prevent and eliminate homelessness, as well as to combat and eliminate its criminalization. | Affordable housing | Accessibility for disadvantaged | Adaptation for social inclusion |        1.64125 |         1.5291 |        1.24735 |"
      ],
      "text/plain": [
       "<IPython.core.display.Markdown object>"
      ]
     },
     "metadata": {},
     "output_type": "display_data"
    }
   ],
   "source": [
    "display(Markdown(robust_matched_sentences[2:3].to_markdown()))"
   ]
  },
  {
   "cell_type": "markdown",
   "id": "24639033",
   "metadata": {},
   "source": [
    "##### Thoughts"
   ]
  },
  {
   "cell_type": "markdown",
   "id": "ad11851d",
   "metadata": {},
   "source": [
    "THis is a clear **win for the batch model**, it is way **more specific** than the full one (does not even mention poverty / inequality but for the top match that is indeed pretty good) overall, but the full model still performs very well on the first indicator."
   ]
  },
  {
   "cell_type": "markdown",
   "id": "67b5d9b6",
   "metadata": {},
   "source": [
    "#### Management Policies & Cultural Heritage "
   ]
  },
  {
   "cell_type": "markdown",
   "id": "7fe3b66f",
   "metadata": {},
   "source": [
    "##### Full"
   ]
  },
  {
   "cell_type": "code",
   "execution_count": 12,
   "id": "70959f3f",
   "metadata": {
    "ExecuteTime": {
     "end_time": "2022-04-02T18:56:15.556350Z",
     "start_time": "2022-04-02T18:56:15.542386Z"
    },
    "hide_input": true
   },
   "outputs": [
    {
     "data": {
      "text/markdown": [
       "| level_1                                                                                                                                                                                                                                                                                                                                                                                                                    | top_match_0                                                    | top_match_1                                                           | top_match_2                                                                         |   similarity_0 |   similarity_1 |   similarity_2 |\n",
       "|:---------------------------------------------------------------------------------------------------------------------------------------------------------------------------------------------------------------------------------------------------------------------------------------------------------------------------------------------------------------------------------------------------------------------------|:---------------------------------------------------------------|:----------------------------------------------------------------------|:------------------------------------------------------------------------------------|---------------:|---------------:|---------------:|\n",
       "| We will include culture as a priority component of urban plans and strategies in the adoption of planning instruments, including master plans, zoning guidelines, building codes, coastal management policies and strategic development policies that safeguard a diverse range of tangible and intangible cultural heritage and landscapes, and will protect them from potential disruptive impacts of urban development. | Conservation of specific important habitats and cultural sites | Protecting and enhancing cultural heritage, local identity and assets | Health, safety and enivironmental initiatives and innovations in municipality level |       0.614091 |       0.590268 |       0.533319 |"
      ],
      "text/plain": [
       "<IPython.core.display.Markdown object>"
      ]
     },
     "metadata": {},
     "output_type": "display_data"
    }
   ],
   "source": [
    "display(Markdown(matched_sentences[3:4].to_markdown()))"
   ]
  },
  {
   "cell_type": "markdown",
   "id": "39b2563c",
   "metadata": {},
   "source": [
    "##### Batches"
   ]
  },
  {
   "cell_type": "code",
   "execution_count": 13,
   "id": "53cbee3b",
   "metadata": {
    "ExecuteTime": {
     "end_time": "2022-04-02T18:56:15.572307Z",
     "start_time": "2022-04-02T18:56:15.559341Z"
    },
    "hide_input": true
   },
   "outputs": [
    {
     "data": {
      "text/markdown": [
       "| text                                                                                                                                                                                                                                                                                                                                                                                                                       | top_match_0    | top_match_1          | top_match_2                |   similarity_0 |   similarity_1 |   similarity_2 |\n",
       "|:---------------------------------------------------------------------------------------------------------------------------------------------------------------------------------------------------------------------------------------------------------------------------------------------------------------------------------------------------------------------------------------------------------------------------|:---------------|:---------------------|:---------------------------|---------------:|---------------:|---------------:|\n",
       "| We will include culture as a priority component of urban plans and strategies in the adoption of planning instruments, including master plans, zoning guidelines, building codes, coastal management policies and strategic development policies that safeguard a diverse range of tangible and intangible cultural heritage and landscapes, and will protect them from potential disruptive impacts of urban development. | Clear strategy | Identify the culture | Management and action plan |       0.745057 |       0.738012 |       0.731689 |"
      ],
      "text/plain": [
       "<IPython.core.display.Markdown object>"
      ]
     },
     "metadata": {},
     "output_type": "display_data"
    }
   ],
   "source": [
    "display(Markdown(robust_matched_sentences[3:4].to_markdown()))"
   ]
  },
  {
   "cell_type": "markdown",
   "id": "8139e100",
   "metadata": {},
   "source": [
    "##### Thoughts"
   ]
  },
  {
   "cell_type": "markdown",
   "id": "c69dff3c",
   "metadata": {},
   "source": [
    "It is true that this comparison is similar to the second sentence one, but in this case the performance of the full model is not so clear. It is true that it has **2 indicators considering culture** and both of them are more specific than the batch one, but the third indicator is not very related to the overall topic while *all of the indicators* proposed by the **batch model** are *on point* (not as well as the *first two of the full model*, but **better overall**) "
   ]
  },
  {
   "cell_type": "markdown",
   "id": "a0950426",
   "metadata": {},
   "source": [
    "#### Urban Extensions for Regenaration "
   ]
  },
  {
   "cell_type": "markdown",
   "id": "9e396757",
   "metadata": {},
   "source": [
    "##### Full"
   ]
  },
  {
   "cell_type": "code",
   "execution_count": 14,
   "id": "b5f9ad73",
   "metadata": {
    "ExecuteTime": {
     "end_time": "2022-04-02T18:56:15.588266Z",
     "start_time": "2022-04-02T18:56:15.575299Z"
    },
    "hide_input": true
   },
   "outputs": [
    {
     "data": {
      "text/markdown": [
       "| level_1                                                                                                                                                                                                                                                                                                                                                                                                                                                                                                             | top_match_0                                                               | top_match_1                                                 | top_match_2                               |   similarity_0 |   similarity_1 |   similarity_2 |\n",
       "|:--------------------------------------------------------------------------------------------------------------------------------------------------------------------------------------------------------------------------------------------------------------------------------------------------------------------------------------------------------------------------------------------------------------------------------------------------------------------------------------------------------------------|:--------------------------------------------------------------------------|:------------------------------------------------------------|:------------------------------------------|---------------:|---------------:|---------------:|\n",
       "| We will promote planned urban extensions and infill, prioritizing renewal, regeneration and retrofitting of urban areas, as appropriate, including the upgrading of slums and informal settlements, providing high-quality buildings and public spaces, promoting integrated and participatory approaches involving all relevant stakeholders and inhabitants and avoiding spatial and socioeconomic segregation and gentrification, while preserving cultural heritage and preventing and containing urban sprawl. | design features that allow for social interaction (parking, squares, etc) | Funds for the improvement of the physical urban environment | Effect on area revitalization/development |       0.559296 |       0.546886 |       0.522856 |"
      ],
      "text/plain": [
       "<IPython.core.display.Markdown object>"
      ]
     },
     "metadata": {},
     "output_type": "display_data"
    }
   ],
   "source": [
    "display(Markdown(matched_sentences[4:5].to_markdown()))"
   ]
  },
  {
   "cell_type": "markdown",
   "id": "00a5d284",
   "metadata": {},
   "source": [
    "##### Batches"
   ]
  },
  {
   "cell_type": "code",
   "execution_count": 15,
   "id": "7a76078a",
   "metadata": {
    "ExecuteTime": {
     "end_time": "2022-04-02T18:56:15.603224Z",
     "start_time": "2022-04-02T18:56:15.591256Z"
    },
    "hide_input": true
   },
   "outputs": [
    {
     "data": {
      "text/markdown": [
       "| text                                                                                                                                                                                                                                                                                                                                                                                                                                                                                                                | top_match_0                               | top_match_1                                                              | top_match_2                                   |   similarity_0 |   similarity_1 |   similarity_2 |\n",
       "|:--------------------------------------------------------------------------------------------------------------------------------------------------------------------------------------------------------------------------------------------------------------------------------------------------------------------------------------------------------------------------------------------------------------------------------------------------------------------------------------------------------------------|:------------------------------------------|:-------------------------------------------------------------------------|:----------------------------------------------|---------------:|---------------:|---------------:|\n",
       "| We will promote planned urban extensions and infill, prioritizing renewal, regeneration and retrofitting of urban areas, as appropriate, including the upgrading of slums and informal settlements, providing high-quality buildings and public spaces, promoting integrated and participatory approaches involving all relevant stakeholders and inhabitants and avoiding spatial and socioeconomic segregation and gentrification, while preserving cultural heritage and preventing and containing urban sprawl. | Effect on area revitalization/development | Using smart solutions to enhance accessibility to services and amenities | City participating in Mayors Adapt initiative |        1.63722 |       0.988605 |       0.949309 |"
      ],
      "text/plain": [
       "<IPython.core.display.Markdown object>"
      ]
     },
     "metadata": {},
     "output_type": "display_data"
    }
   ],
   "source": [
    "display(Markdown(robust_matched_sentences[4:5].to_markdown()))"
   ]
  },
  {
   "cell_type": "markdown",
   "id": "341428ad",
   "metadata": {},
   "source": [
    "##### Thoughts"
   ]
  },
  {
   "cell_type": "markdown",
   "id": "5218db32",
   "metadata": {},
   "source": [
    "This has been by far the worst sentence in both cases as none of them is griving any credit on housing and population, but they are not that bad either. In this case it is unclear which of the models performs better."
   ]
  },
  {
   "cell_type": "markdown",
   "id": "2e6fbb2a",
   "metadata": {},
   "source": [
    "## Conclusion"
   ]
  },
  {
   "cell_type": "markdown",
   "id": "99133507",
   "metadata": {},
   "source": [
    "The improvement is not so clear when applying the **batch model** over the **full model**, but it will be definitely worth trying when processing whole papers."
   ]
  },
  {
   "cell_type": "code",
   "execution_count": 16,
   "id": "26a1ad5a",
   "metadata": {
    "ExecuteTime": {
     "end_time": "2022-04-02T18:56:15.618185Z",
     "start_time": "2022-04-02T18:56:15.606217Z"
    },
    "tags": [
     "hide"
    ]
   },
   "outputs": [],
   "source": [
    "#!jupyter nbconvert \"Model Application\" --to html_toc --TemplateExporter.exclude_input=True -TagRemovePreprocessor.remove_cell_tags=\"hide\""
   ]
  },
  {
   "cell_type": "markdown",
   "id": "5180979a",
   "metadata": {
    "tags": [
     "hide"
    ]
   },
   "source": [
    "## Export Functions and Necessary Components"
   ]
  },
  {
   "cell_type": "code",
   "execution_count": 17,
   "id": "4e2edf66",
   "metadata": {
    "ExecuteTime": {
     "end_time": "2022-04-02T18:56:15.649102Z",
     "start_time": "2022-04-02T18:56:15.621176Z"
    },
    "tags": [
     "hide"
    ]
   },
   "outputs": [
    {
     "name": "stdout",
     "output_type": "stream",
     "text": [
      "Overwriting model.py\n"
     ]
    }
   ],
   "source": [
    "%%writefile model.py\n",
    "# Base\n",
    "import warnings\n",
    "import numpy as np\n",
    "import pandas as pd\n",
    "import pickle\n",
    "warnings.simplefilter(action='ignore', category=FutureWarning)\n",
    "\n",
    "# Visualization\n",
    "from IPython.display import Markdown\n",
    "import ipywidgets as widgets\n",
    "from plotly.graph_objs import FigureWidget\n",
    "import matplotlib.pyplot as plt\n",
    "import plotly.graph_objects as go\n",
    "import plotly.express as px\n",
    "from tqdm import tqdm\n",
    "\n",
    "#Sentence Transformes framework (HuggingFace)\n",
    "from sentence_transformers import SentenceTransformer\n",
    "\n",
    "# Cosine similarity\n",
    "from sklearn.metrics.pairwise  import cosine_similarity\n",
    "\n",
    "# NLP\n",
    "import spacy\n",
    "from spacy.lang.en.stop_words import STOP_WORDS as stop_words\n",
    "sp = spacy.load('en_core_web_sm')\n",
    "\n",
    "roberta_stsb = SentenceTransformer('stsb-roberta-large')\n",
    "encoded_indicators = pd.read_csv('Indicators/encoded_indicators.csv').set_index('indicator')\n",
    "encoded_indicators.columns =[int(c) for c in encoded_indicators.columns]\n",
    "\n",
    "with open('Files/fitted_pca.pickle', \"rb\") as file:\n",
    "    pca = pickle.load(file)\n",
    "    \n",
    "with open('Files/commitment_texts.pickle', \"rb\") as file:\n",
    "    commitment_texts = pickle.load(file)\n",
    "\n",
    "def remove_stopwords(text: str):\n",
    "    \n",
    "    \"\"\"\n",
    "    Removes stopwords from a given text\n",
    "    \"\"\" \n",
    "    \n",
    "    return ' '.join([token.text for token in sp(text) if not token.is_stop]).strip()\n",
    "\n",
    "\n",
    "def base_encoding(sentences: list):\n",
    "    \n",
    "    \"\"\"\n",
    "    Encodes a given list of sentences to match \n",
    "    the dimensions of the encoded indicators\n",
    "    \"\"\"\n",
    "    encoded_sentences = pca.transform(roberta_stsb.encode(pd.Series(sentences).apply(remove_stopwords)))\n",
    "    return pd.DataFrame(encoded_sentences, index=sentences)\n",
    "\n",
    "\n",
    "def match_sentences_indicators(sentences: list):\n",
    "    \n",
    "    \"\"\"\n",
    "    Matches given sentences to encoded\n",
    "    indicators in a \"correlation\" matrix\n",
    "    \"\"\"\n",
    "    \n",
    "    final_matrix = pd.concat([encoded_indicators, base_encoding(sentences)])\n",
    "    return pd.DataFrame(cosine_similarity(final_matrix), index=final_matrix.index, columns=final_matrix.index)\n",
    "\n",
    "\n",
    "def sentence_top_matches(matched_sentences: list,\n",
    "                         sentences_matrix: pd.DataFrame = None,\n",
    "                         valid_sentences: list = list(encoded_indicators.index),\n",
    "                         n_top=5):\n",
    "    \n",
    "    \"\"\"\n",
    "    Applies the previously defined functions to return \n",
    "    the top matches of the given list of sentences\n",
    "    \"\"\"\n",
    "    \n",
    "    if not sentences_matrix:\n",
    "        sentences_matrix = match_sentences_indicators(matched_sentences)\n",
    "    \n",
    "    matched_sentences = sentences_matrix.loc[matched_sentences][valid_sentences].drop_duplicates()\n",
    "    matched_sentences = matched_sentences.unstack().sort_values(ascending=False)\n",
    "    final_matched_sentences = matched_sentences[matched_sentences < 0.999].groupby(level=1).head(n_top).reset_index()\n",
    "    final_matches = final_matched_sentences.groupby(\"level_1\").agg(list)\n",
    "    \n",
    "    indexes = pd.DataFrame(final_matches[\"level_0\"].to_list())\n",
    "    indexes.columns = ['top_match_' + str(c) for c in indexes.columns]\n",
    "    indexes.index = final_matches.index\n",
    "    \n",
    "    similarities = pd.DataFrame(final_matches[0].to_list())\n",
    "    similarities.columns = ['similarity_' + str(c) for c in similarities.columns]  \n",
    "    similarities.index = final_matches.index\n",
    "    \n",
    "    return pd.concat([final_matches.drop(columns=[\"level_0\", 0]), pd.concat([indexes, similarities], axis=1)], axis=1)\n",
    "\n",
    "\n",
    "def remove_subtext(text_list: list, minimum_length: int):\n",
    "    \n",
    "    \"\"\"\n",
    "    Filters strings with less words than the given number \n",
    "    (minimum_length) from a given list of strings (text_list)\n",
    "    \"\"\"\n",
    "    \n",
    "    return [text.strip() for text in text_list if len(text.strip().split(\" \")) >= minimum_length]\n",
    "\n",
    "\n",
    "def process_sentences(text_list: list, minimum_length: int=3):\n",
    "    \n",
    "    \"\"\"\n",
    "    Processes the strings within the given list with \n",
    "    the remove_subtext function splitting the\n",
    "    original list when finding a dot or a coma\n",
    "    \"\"\"\n",
    "    \n",
    "    return pd.Series(text_list).str.replace(\",\", \".\").str.split(\".\").apply(lambda x: remove_subtext(x, minimum_length))\n",
    "\n",
    "\n",
    "def subsentences_top_matches(text_list: list,\n",
    "                             minimum_length: int=3,\n",
    "                             n_top_calc:int=10):\n",
    "    \n",
    "    \"\"\"\n",
    "    \n",
    "    \"\"\"\n",
    "    \n",
    "    text_dataframe = pd.DataFrame(pd.Series(text_list, name='text'))\n",
    "    exploded_df = pd.DataFrame(process_sentences(text_list, minimum_length).explode()).reset_index().set_index(0)\n",
    "    exploded_df.index.names = ['sentence']\n",
    "    \n",
    "    final_df = text_dataframe.merge(exploded_df, left_index=True, right_on='index').drop(columns='index')\n",
    "    final_df = final_df[final_df.index.notnull()]\n",
    "    \n",
    "    return final_df.join(sentence_top_matches(list(final_df.index), n_top=n_top_calc))\n",
    "\n",
    "\n",
    "def soft_voting_classifier(series: pd.Series,\n",
    "                           n_top:int=3):\n",
    "    \n",
    "    \"\"\"\n",
    "    Ranks the highest similarity matches for a  \n",
    "    given series containing all of their values\n",
    "    \"\"\"\n",
    "    \n",
    "    values = pd.DataFrame(series).apply(pd.Series.explode).reset_index()\n",
    "    \n",
    "    final_top_matches = {}\n",
    "    \n",
    "    matches = values[values[\"index\"].str.contains('top_match')][series.name]\n",
    "    similarities = values[values[\"index\"].str.contains('similarity')][series.name]\n",
    "    \n",
    "    for match, similarity in zip(matches, similarities):\n",
    "        if match not in final_top_matches:\n",
    "            final_top_matches[match] = similarity\n",
    "        else:\n",
    "            final_top_matches[match] += similarity\n",
    "            \n",
    "    processed_dict = pd.Series(final_top_matches).sort_values(ascending=False)[:n_top].reset_index()\n",
    "    processed_dict = processed_dict.rename(columns={\"index\": 'top_match', 0: 'similarity'})\n",
    "    \n",
    "    return {'_'.join([str(i) for i in k]):v for k, v in processed_dict.T.stack().to_dict().items()}\n",
    "\n",
    "\n",
    "def robust_sentence_top_matches(text_list: list,\n",
    "                                minimum_length: int=3,\n",
    "                                n_top:int=5,\n",
    "                                n_top_calc:int=10):\n",
    "    \n",
    "    \"\"\"\n",
    "    Applies the previously defined functions to return \n",
    "    the top submatches ranked by the voting classifier and\n",
    "    returns them in the same format as sentence_top_matches\n",
    "    \"\"\"\n",
    "    \n",
    "    processed_sentences = subsentences_top_matches(text_list, minimum_length, n_top_calc).groupby('text').agg(list).T\n",
    "    return processed_sentences.apply(lambda x: soft_voting_classifier(x, n_top)).apply(pd.Series)"
   ]
  }
 ],
 "metadata": {
  "celltoolbar": "Tags",
  "kernelspec": {
   "display_name": "Python 3 (ipykernel)",
   "language": "python",
   "name": "python3"
  },
  "language_info": {
   "codemirror_mode": {
    "name": "ipython",
    "version": 3
   },
   "file_extension": ".py",
   "mimetype": "text/x-python",
   "name": "python",
   "nbconvert_exporter": "python",
   "pygments_lexer": "ipython3",
   "version": "3.7.10"
  },
  "toc": {
   "base_numbering": 1,
   "nav_menu": {},
   "number_sections": true,
   "sideBar": true,
   "skip_h1_title": false,
   "title_cell": "Table of Contents",
   "title_sidebar": "Contents",
   "toc_cell": false,
   "toc_position": {
    "height": "calc(100% - 180px)",
    "left": "10px",
    "top": "150px",
    "width": "286px"
   },
   "toc_section_display": true,
   "toc_window_display": true
  }
 },
 "nbformat": 4,
 "nbformat_minor": 5
}
