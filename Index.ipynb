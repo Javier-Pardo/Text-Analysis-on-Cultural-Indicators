{
 "cells": [
  {
   "cell_type": "markdown",
   "id": "67e4343b",
   "metadata": {},
   "source": [
    "# Text Analysis on Cultural Indicators"
   ]
  },
  {
   "cell_type": "markdown",
   "id": "675ad3df",
   "metadata": {},
   "source": [
    "Nowadays the factors that contribute to the advancement and progress of society as well as their effects and consequences are deeply investigated. The **volume of research** is such that it becomes **increasingly difficult** to **assimilate all this information** and extract **useful insights from it**.\n",
    "\n",
    "These investigations are usually oriented to **specific topics** and our goal is to **understand the relevance** of these subjects in these papers. In order to do this we have a set of **1082 indicators**, divided between **819 general indicators** (covering a wide range of affairs, from *CO2 production* to *GDP growth*) and **263 cultural indicators**. All of them together are assumed to represent the most important topics that are extensively covered by these studies.\n",
    "\n",
    "However, language is not *objective* and these indicators have been **arbitrarily** selected (with good reasons, but arbitrarily nevertheless), therefore this method can lead to errors and misunderstandings due to the very *subjective* nature of language itself. From this fact we come up with the following questions:\n",
    "\n",
    "* To what extent can we trust this **general** - **cultural** indicators to summarize and understand investigations? \n",
    "* Are **cultural indicators more specific** than their general counterpart? And if so, to what degree are they?\n",
    "\n",
    "In this Analysis we will try to answer these questions and apply the results to real *Papers* and *Reports* such us the **Paris Agreement** or the **Agenda 2030**, as well as matching general and cultural indicators to understand their connections and redundancy to validate this method.\n",
    "\n",
    "This process will be split in **4 different notebooks** which can be found down below, each one pointing to its proper documentation. This first document (*index*) is the **connecting link** between all of them and its purpose is to make it easier to understand the **big picture** of the project while the other 4 documents will be more **specific and technical**, thus requiring some extra effort to understand what is happening under the hood."
   ]
  },
  {
   "cell_type": "markdown",
   "id": "fe2783b1",
   "metadata": {},
   "source": [
    "## [Indicators Cleaning](./Clean%20Indicators.html)"
   ]
  },
  {
   "cell_type": "markdown",
   "id": "1bcadc68",
   "metadata": {},
   "source": [
    "### Introduction"
   ]
  },
  {
   "cell_type": "markdown",
   "id": "96de78ac",
   "metadata": {},
   "source": [
    "When looking at the given indicators one can see they are *far away* from being perfect (some of them include *specific dates*, *non-english words* or an *unknown encoding*). This can be quite *detrimental* for the quality of the model when applying it as it might not be able to **recognise patterns** or **get confused** (biased) towards specific dates instead of inferring the intentionality of the indicator itself."
   ]
  },
  {
   "cell_type": "markdown",
   "id": "cb10e91e",
   "metadata": {},
   "source": [
    "### Process"
   ]
  },
  {
   "cell_type": "markdown",
   "id": "02ff5360",
   "metadata": {},
   "source": [
    "We will mainly apply the following processes:\n",
    "\n",
    "* Remove **wrong characters**\n",
    "\n",
    "* **Translate non-english** indicators\n",
    "\n",
    "* **Drop duplicates** from both types"
   ]
  },
  {
   "cell_type": "markdown",
   "id": "b54b5489",
   "metadata": {},
   "source": [
    "### Output "
   ]
  },
  {
   "cell_type": "markdown",
   "id": "10911215",
   "metadata": {},
   "source": [
    "The result of this notebook will be a clean **2 columns CSV file** containing the modified indicators and their type that will be used in the next step."
   ]
  },
  {
   "cell_type": "markdown",
   "id": "fabf50f5",
   "metadata": {},
   "source": [
    "## [Model Selection, Fine Tuning & Indicators Matching](./Model%20Selection%20and%20Fine%20Tuning.html)"
   ]
  },
  {
   "cell_type": "markdown",
   "id": "9043ac42",
   "metadata": {
    "ExecuteTime": {
     "end_time": "2022-03-27T13:40:36.583527Z",
     "start_time": "2022-03-27T13:40:36.571557Z"
    }
   },
   "source": [
    "### Introduction"
   ]
  },
  {
   "cell_type": "markdown",
   "id": "3abb090a",
   "metadata": {},
   "source": [
    "Now that our indicators are clean we need to **analyse them** properly. In order to do that we will have to **find a model** that fits our objective and *fine-tune* it to have the most accurate result when matching the **cultural indicators** with the **general ones**."
   ]
  },
  {
   "cell_type": "markdown",
   "id": "630b6a20",
   "metadata": {},
   "source": [
    "### Process"
   ]
  },
  {
   "cell_type": "markdown",
   "id": "6107f5c8",
   "metadata": {},
   "source": [
    "This notebook will be most **complex** and **extensive** and will cover a broad variety of topics:\n",
    "* Model *Selection*\n",
    "\n",
    "* Model *Exploration / Validation* (**K-means**)\n",
    "\n",
    "* *Fine-Tuning* (**PCA**)\n",
    "\n",
    "* **Error Analysis**\n",
    "\n",
    "* **Indicators Matching**"
   ]
  },
  {
   "cell_type": "markdown",
   "id": "67daa4ff",
   "metadata": {},
   "source": [
    "### Output "
   ]
  },
  {
   "cell_type": "markdown",
   "id": "16495c1e",
   "metadata": {},
   "source": [
    "It exports two **CSV files**, one containing the indicator we want to match and the **top 5 similar indicators** from the other type (*indicator_matches.csv*). The other one contains the **encoded matrix** of the clean indicators to be used directly in the next notebook, the *model* and the *PCA* will be initialized again then."
   ]
  },
  {
   "cell_type": "markdown",
   "id": "5867b34e",
   "metadata": {},
   "source": [
    "## [Model Application](./Model%20Application.html)"
   ]
  },
  {
   "cell_type": "markdown",
   "id": "b16efab6",
   "metadata": {},
   "source": [
    "### Introduction"
   ]
  },
  {
   "cell_type": "markdown",
   "id": "d3239dcc",
   "metadata": {},
   "source": [
    "Finally we have our model *fine-tuned* and ready to work, but there is a drawback for transformers (*word-embedding*) we have not mentioned before: **Transformers** performance decreases with the length of the text that is passed through it. This is not critical but we will try to fix it by **reducing the number of words** of the texts *removing stopwords* and then not applying the model once, but applying it for every **subsentence** defined as all the words between the '**.**' and '**,**' characters. With this we aim to **reduce the vagueness** of the model for long texts."
   ]
  },
  {
   "cell_type": "markdown",
   "id": "1c0f1476",
   "metadata": {},
   "source": [
    "### Process"
   ]
  },
  {
   "cell_type": "markdown",
   "id": "35594f53",
   "metadata": {},
   "source": [
    "This notebook will be most **code-intensive** but should not be difficult to understand as very few things are happening:\n",
    "* Remove **Stopwords**\n",
    "\n",
    "* **Applying the model** to a vector of sentences (*Hadamard Product*)\n",
    "\n",
    "* Create a **Soft Voting Classifier** for the model"
   ]
  },
  {
   "cell_type": "markdown",
   "id": "a49b6c6c",
   "metadata": {},
   "source": [
    "### Output"
   ]
  },
  {
   "cell_type": "markdown",
   "id": "f8221b5c",
   "metadata": {},
   "source": [
    "A **Python file** (*module*) containing the necessary functions to work with the model at any time. This will be used in the last step."
   ]
  },
  {
   "cell_type": "markdown",
   "id": "aea49790",
   "metadata": {},
   "source": [
    "## [PDF Reader & Model Application](./PDF%20Reader.html)"
   ]
  },
  {
   "cell_type": "markdown",
   "id": "d01e34e3",
   "metadata": {},
   "source": [
    "### Introduction"
   ]
  },
  {
   "cell_type": "markdown",
   "id": "f9ccf938",
   "metadata": {},
   "source": [
    "Now that our model is ready to be applied to large texts and not only short sentences it is time to develop a **PDF file reader** to extract the **relevant information** from the desired files and **apply the model** to the [Agenda 2030](../Reports/Agenda%202030.pdf) to check whether or not our it can summarise our documents properly."
   ]
  },
  {
   "cell_type": "markdown",
   "id": "a102e2da",
   "metadata": {},
   "source": [
    "### Process"
   ]
  },
  {
   "cell_type": "markdown",
   "id": "7c523847",
   "metadata": {},
   "source": [
    "This last step doesn't cover a lot, it will just do the following:\n",
    "* **PDF Reader** application\n",
    "\n",
    "* **Model application** to the extracted text"
   ]
  },
  {
   "cell_type": "markdown",
   "id": "213fd16c",
   "metadata": {},
   "source": [
    "### Output"
   ]
  },
  {
   "cell_type": "markdown",
   "id": "65e7658b",
   "metadata": {},
   "source": [
    "As this is the final step, it will export a **CSV file** with a sentence from the text for every row and the **top 5 indicators** (*general* and *cultural*). \n",
    "\n",
    "You can take a look at all the matches for the **Agenda 2030** [here](https://docs.google.com/spreadsheets/d/1AUyOkvd8HSA-VE2eaxsC2kTp_KzXS0bA48KQcQ-ntwY/edit?usp=sharing)."
   ]
  },
  {
   "cell_type": "markdown",
   "id": "d11864f2",
   "metadata": {
    "tags": [
     "hide"
    ]
   },
   "source": [
    "## Notebook Exporting"
   ]
  },
  {
   "cell_type": "code",
   "execution_count": 1,
   "id": "510cf445",
   "metadata": {
    "ExecuteTime": {
     "end_time": "2022-04-02T19:26:34.779519Z",
     "start_time": "2022-04-02T19:26:34.764560Z"
    },
    "tags": [
     "hide"
    ]
   },
   "outputs": [],
   "source": [
    "#!jupyter nbconvert \"Index\" --to html_toc --TemplateExporter.exclude_input=True -TagRemovePreprocessor.remove_cell_tags=\"hide\""
   ]
  }
 ],
 "metadata": {
  "celltoolbar": "Tags",
  "kernelspec": {
   "display_name": "Python 3 (ipykernel)",
   "language": "python",
   "name": "python3"
  },
  "language_info": {
   "codemirror_mode": {
    "name": "ipython",
    "version": 3
   },
   "file_extension": ".py",
   "mimetype": "text/x-python",
   "name": "python",
   "nbconvert_exporter": "python",
   "pygments_lexer": "ipython3",
   "version": "3.7.10"
  },
  "toc": {
   "base_numbering": 1,
   "nav_menu": {},
   "number_sections": true,
   "sideBar": true,
   "skip_h1_title": false,
   "title_cell": "Table of Contents",
   "title_sidebar": "Contents",
   "toc_cell": false,
   "toc_position": {
    "height": "calc(100% - 180px)",
    "left": "10px",
    "top": "150px",
    "width": "270px"
   },
   "toc_section_display": true,
   "toc_window_display": true
  }
 },
 "nbformat": 4,
 "nbformat_minor": 5
}
